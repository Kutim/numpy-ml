{
 "cells": [
  {
   "cell_type": "code",
   "execution_count": null,
   "metadata": {},
   "outputs": [],
   "source": [
    "from IPython.core.interactiveshell import InteractiveShell\n",
    "InteractiveShell.ast_node_interactivity = 'all'\n",
    "!pip install numpy"
   ]
  },
  {
   "cell_type": "markdown",
   "metadata": {},
   "source": [
    "求解线性方程 $Ax=y$, 如果 矩阵A 有逆矩阵的话，那么 $x=A^{−1}y$.存在以下情况：\n",
    "- 如果 $A$ 的行数大于列数，那么方程可能没有解\n",
    "- 如果 $A$ 的行数小于列数，那么方程可能有无数多个解\n",
    "- 即使 $A$ 是个方阵，那也可能无解，可能有唯一的解，可能有无穷多解\n",
    "\n",
    "Moore-Penrose 伪逆(Moore-Penrose pseudoinverse)使我们在这类问题上取得了一定的进展。矩阵 A 的伪逆定义为:\n",
    "$$\n",
    "A^{+}=lim_{a\\to 0}(A^TA + aI)^{-1}A^T\n",
    "$$\n",
    "\n",
    "计算伪逆的实际算法没有基于这个定义，而是使用下面的公式:\n",
    "$$\n",
    "A^{+}=VD^+U^T\n",
    "$$\n",
    "\n",
    "其中，矩阵 U，D 和 V 是矩阵 A奇异值分解后得到的矩阵 $A=UDV^T$。对角矩阵 D 的伪逆 D+ 是其非零元素取倒数之后再转置得到的。\n",
    "\n",
    "\n",
    "- 当矩阵 A 的列数多于行数时，使用伪逆求解线性方程是众多可能解法中的一种。特别地，$x = A^+y$ 是方程所有可行解中欧几里得范数 $||x||_2$ 最小的一个。\n",
    "- 当矩阵 A 的行数多于列数时，可能没有解。在这种情况下，通过伪逆得到的 x 使得 Ax 和 y 的欧几里得距离 $||Ax−y||_2$ 最小。"
   ]
  },
  {
   "cell_type": "code",
   "execution_count": null,
   "metadata": {},
   "outputs": [],
   "source": [
    "import numpy as np\n",
    "a=np.random.rand(10,20)\n",
    "a_pinv=np.linalg.pinv(a)\n",
    "a\n",
    "a_pinv"
   ]
  }
 ],
 "metadata": {
  "kernelspec": {
   "display_name": "Python 3",
   "language": "python",
   "name": "python3"
  },
  "language_info": {
   "codemirror_mode": {
    "name": "ipython",
    "version": 3
   },
   "file_extension": ".py",
   "mimetype": "text/x-python",
   "name": "python",
   "nbconvert_exporter": "python",
   "pygments_lexer": "ipython3",
   "version": "3.7.4"
  },
  "toc": {
   "base_numbering": 1,
   "nav_menu": {},
   "number_sections": true,
   "sideBar": true,
   "skip_h1_title": false,
   "title_cell": "Table of Contents",
   "title_sidebar": "Contents",
   "toc_cell": false,
   "toc_position": {},
   "toc_section_display": true,
   "toc_window_display": true
  }
 },
 "nbformat": 4,
 "nbformat_minor": 2
}
