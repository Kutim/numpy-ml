{
 "cells": [
  {
   "cell_type": "code",
   "execution_count": null,
   "metadata": {},
   "outputs": [
    {
     "name": "stdout",
     "output_type": "stream",
     "text": [
      "Looking in indexes: https://pypi.tuna.tsinghua.edu.cn/simple\n",
      "Requirement already satisfied: matplotlib in /anaconda3/lib/python3.7/site-packages (3.1.0)\n",
      "Requirement already satisfied: numpy in /anaconda3/lib/python3.7/site-packages (1.16.4)\n",
      "Requirement already satisfied: cycler>=0.10 in /anaconda3/lib/python3.7/site-packages (from matplotlib) (0.10.0)\n",
      "Requirement already satisfied: kiwisolver>=1.0.1 in /anaconda3/lib/python3.7/site-packages (from matplotlib) (1.1.0)\n",
      "Requirement already satisfied: pyparsing!=2.0.4,!=2.1.2,!=2.1.6,>=2.0.1 in /anaconda3/lib/python3.7/site-packages (from matplotlib) (2.4.0)\n",
      "Requirement already satisfied: python-dateutil>=2.1 in /anaconda3/lib/python3.7/site-packages (from matplotlib) (2.8.0)\n",
      "Requirement already satisfied: six in /Users/kutim/.local/lib/python3.7/site-packages (from cycler>=0.10->matplotlib) (1.12.0)\n",
      "Requirement already satisfied: setuptools in /anaconda3/lib/python3.7/site-packages (from kiwisolver>=1.0.1->matplotlib) (41.0.1)\n"
     ]
    }
   ],
   "source": [
    "from IPython.core.interactiveshell import InteractiveShell\n",
    "InteractiveShell.ast_node_interactivity = 'all'\n",
    "!pip install matplotlib numpy"
   ]
  },
  {
   "cell_type": "markdown",
   "metadata": {},
   "source": [
    "# 奇异值分解\n",
    "\n",
    "对于 $mxn$ 的实数矩阵$A$， 我们想把它分解为如下的形式：\n",
    "$$\n",
    "A=UDV^T \\tag{1}\n",
    "$$\n",
    "其中 $U$ 和 $V$ 均为单位正交阵，即有 $UU^T=I$ 和 $VV^T=I$,$U$ 称为 左奇异矩阵\n",
    "，$V$ 称为 右奇异矩阵，$D$ 仅在主对角线上有值，我们称之为 奇异值，其他元素均为0。上面的矩阵维度分别为： $U \\in R^{m \\times n}$ , $D \\in R^{n \\times n}$ ,$V \\in R^{n \\times n}$\n",
    "\n",
    "在求解上面的 $U,D,V$ 时，可以利用如下性质：\n",
    "$$\n",
    "AA^T = UDV^TVD^TU^T = UDD^TU^T      \\tag{2}   \n",
    "$$\n",
    "$$\n",
    "A^TA = VD^TU^TUDV^T = VD^TDV^T      \\tag{3}\n",
    "$$"
   ]
  },
  {
   "cell_type": "markdown",
   "metadata": {},
   "source": [
    "对公式（2）和（3）做特征分解，即可得到奇异值分解的结果。但分开求存在一定的问题，由于做特征值分解的时候，特征向量的正负号并不影响结果，如\n",
    "对（2）和（3）做特征分解：\n",
    "$$\n",
    "AA^T \\mu_i=\\sigma_i\\mu_i \\space or \\space AA^T(-\\mu_i)=\\sigma_i(-\\mu_i) \\tag{4}\n",
    "$$\n",
    "$$\n",
    "A^TA \\nu_i=\\sigma_i \\nu_i \\space or \\space A^TA(-\\nu_i)=\\sigma_i(-\\nu_i) \\tag{5}\n",
    "$$\n",
    "如果在计算过程取，取上面的 $\\mu_i$ 组成左奇异矩阵 $U$，取 $-\\nu_i$ 组成右奇异矩阵 $V$，此时$A \\ne UDV^T$。因此求$\\nu_i$时，要根据$\\mu_i$来求，这样才能保证$A=UDV^T$。因此，我们可以得出如下计算SVD的算法。它主要是先做特性值分解，再根据特征值分解得到的左奇异矩阵U,间接地求出部分的右奇异矩阵$V'\\in R^{m \\times n}$`。"
   ]
  },
  {
   "cell_type": "markdown",
   "metadata": {},
   "source": [
    "---\n",
    "算法: SVD\n",
    "\n",
    "---\n",
    "输入： 样本数据\n",
    "输出： 左奇异矩阵，奇异值矩阵，右奇异矩阵\n",
    "\n",
    "---\n",
    "\n",
    "1. 计算特征值：特征值分解 $AA^T$,其中 $A \\in R^{m \\times n}$ 为原始样本数据\n",
    "$$\n",
    "AA^T =  UDD^TU^T \n",
    "$$\n",
    "得到左奇异矩阵$U \\in R^{mxm}$ 和 奇异值矩阵$D'\\in R^{m \\times m}$\n",
    "\n",
    "2. 间接求部分右奇异矩阵： 求$V'\\in R^{m \\times n}$\n",
    "利用$A=UD'V'$可得\n",
    "$$\n",
    "V'=(UD')^{-1}A=(D')^{-1}U^TA\n",
    "$$\n",
    "3. 返回$U, D', V'$，分别为左奇异矩阵，奇异值矩阵，右奇异矩阵。"
   ]
  },
  {
   "cell_type": "markdown",
   "metadata": {},
   "source": [
    "注意：这里得到的$D'$和$V'$与式（3）所得到的$D, V$有区别，它们的维度不一样。$D'$是只取了前𝑚个奇异值形成的对角方阵，即$D'\\in R^{m\\times m}$；$V'$不是一个方阵，它只取了$V \\in R^{m \\times n}$的前m行（假设m<n），即有$V'=V(:m,⋅)$。这样一来，我们同样有类似式（1）的数学关系成立，即\n",
    "\n",
    "$$\n",
    "A=UD'(V')^T \\tag{6}\n",
    "$$\n",
    "\n",
    "我们可以利用此关系重建原始数据。"
   ]
  },
  {
   "cell_type": "markdown",
   "metadata": {},
   "source": [
    "## SVD 实现\n"
   ]
  },
  {
   "cell_type": "markdown",
   "metadata": {},
   "source": [
    "测试矩阵的生成："
   ]
  },
  {
   "cell_type": "code",
   "execution_count": null,
   "metadata": {},
   "outputs": [],
   "source": [
    "import numpy as np\n",
    "test=np.random.rand(4,3)\n",
    "test"
   ]
  },
  {
   "cell_type": "markdown",
   "metadata": {},
   "source": [
    "特征值分解："
   ]
  },
  {
   "cell_type": "code",
   "execution_count": null,
   "metadata": {},
   "outputs": [],
   "source": [
    "# 计算特征值和特征向量\n",
    "eval_sigma1,evec_u = np.linalg.eigh(test.dot(test.T))\n",
    "eval_sigma1\n",
    "evec_u"
   ]
  },
  {
   "cell_type": "markdown",
   "metadata": {},
   "source": [
    "计算右奇异矩阵\n"
   ]
  },
  {
   "cell_type": "code",
   "execution_count": null,
   "metadata": {},
   "outputs": [],
   "source": [
    "#降序排列后，逆序输出\n",
    "eva1_sort_idx = np.argsort(eval_sigma1)[::-1]\n",
    "eva1_sort_idx\n"
   ]
  },
  {
   "cell_type": "code",
   "execution_count": null,
   "metadata": {},
   "outputs": [],
   "source": [
    "# 将特征值对应的特征向量也对应排好序\n",
    "eval_sigma1 = np.sort(eval_sigma1)[::-1]\n",
    "evec_u = evec_u[:,eva1_sort_idx]\n",
    "\n"
   ]
  },
  {
   "cell_type": "code",
   "execution_count": null,
   "metadata": {},
   "outputs": [],
   "source": [
    "# 计算奇异值矩阵的逆\n",
    "eval_sigma1 = np.sqrt(eval_sigma1)\n",
    "eval_sigma1_inv = np.linalg.inv(np.diag(eval_sigma1))\n",
    "eval_sigma1\n"
   ]
  },
  {
   "cell_type": "code",
   "execution_count": null,
   "metadata": {},
   "outputs": [],
   "source": [
    "# 计算右奇异矩阵\n",
    "evec_part_v = eval_sigma1_inv.dot((evec_u.T).dot(test))\n",
    "evec_part_v"
   ]
  },
  {
   "cell_type": "markdown",
   "metadata": {},
   "source": [
    "上面的计算出的evec_u, eval_sigma1, evec_part_v分别为左奇异矩阵，所有奇异值，右奇异矩阵。\n",
    "\n"
   ]
  },
  {
   "cell_type": "markdown",
   "metadata": {},
   "source": [
    "## SVD降维后重建数据\n",
    "取不同个数的奇异值，重建数据，计算出均方误差，随着奇异值个数的增加，均方误差（MSE）在减小，且奇异值和的比率正快速上升。"
   ]
  },
  {
   "cell_type": "markdown",
   "metadata": {},
   "source": [
    "## 在图像压缩中的应用\n"
   ]
  },
  {
   "cell_type": "markdown",
   "metadata": {},
   "source": [
    "1. 读图片"
   ]
  },
  {
   "cell_type": "code",
   "execution_count": null,
   "metadata": {},
   "outputs": [],
   "source": [
    "%matplotlib inline\n",
    "import matplotlib.pyplot as plt\n",
    "import matplotlib.image as mpimg\n",
    "import numpy as np\n",
    "\n",
    "imageurl=\"https://i.loli.net/2019/08/21/TwXSnfU1F8Btle4.png\"\n",
    "img_eg = mpimg.imread(imageurl)\n",
    "print(img_eg.shape)"
   ]
  },
  {
   "cell_type": "markdown",
   "metadata": {},
   "source": [
    "2. 奇异值分解"
   ]
  },
  {
   "cell_type": "code",
   "execution_count": null,
   "metadata": {},
   "outputs": [],
   "source": [
    "img_temp = img_eg.reshape(img_eg.shape[0],  img_eg.shape[1]*img_eg.shape[2] )\n",
    "U,Sigma,VT = np.linalg.svd(img_temp)\n",
    "U\n",
    "Sigma\n",
    "VT"
   ]
  },
  {
   "cell_type": "markdown",
   "metadata": {},
   "source": [
    "我们先将图片变成二维，再做奇异值分解。从svd函数中得到的奇异值sigma它是从大到小排列的。"
   ]
  },
  {
   "cell_type": "markdown",
   "metadata": {},
   "source": [
    "3. 取前部分奇异值重构图片"
   ]
  },
  {
   "cell_type": "code",
   "execution_count": null,
   "metadata": {},
   "outputs": [],
   "source": [
    "# 取前60个奇异值\n",
    "sval_nums = 60\n",
    "img_restruct1 = (U[:,0:sval_nums]).dot(np.diag(Sigma[0:sval_nums])).dot(VT[0:sval_nums,:])\n",
    "img_restruct1 = img_restruct1.reshape(img_eg.shape[0],img_eg.shape[1],img_eg.shape[2])\n",
    "\n",
    "# 取前120个奇异值\n",
    "sval_nums = 120\n",
    "img_restruct2 = (U[:,0:sval_nums]).dot(np.diag(Sigma[0:sval_nums])).dot(VT[0:sval_nums,:])\n",
    "img_restruct2 = img_restruct2.reshape(img_eg.shape[0],img_eg.shape[1],img_eg.shape[2])"
   ]
  },
  {
   "cell_type": "markdown",
   "metadata": {},
   "source": [
    "将图片显示出来看一下，对比下效果\n",
    "\n"
   ]
  },
  {
   "cell_type": "code",
   "execution_count": null,
   "metadata": {
    "scrolled": true
   },
   "outputs": [],
   "source": [
    "fig, ax = plt.subplots(1,3,figsize = (24,32))\n",
    "\n",
    "ax[0].imshow(img_eg)\n",
    "ax[0].set(title = \"src\")\n",
    "ax[1].imshow(img_restruct1)\n",
    "ax[1].set(title = \"nums of sigma = 60\")\n",
    "ax[2].imshow(img_restruct2)\n",
    "ax[2].set(title = \"nums of sigma = 120\")"
   ]
  },
  {
   "cell_type": "markdown",
   "metadata": {},
   "source": [
    "可以看到，当我们取到前面120个奇异值来重构图片时，基本上已经看不出与原图片有多大的差别。\n",
    "\n"
   ]
  },
  {
   "cell_type": "markdown",
   "metadata": {},
   "source": [
    "# 总结\n",
    "从上面的图片的压缩结果中可以看出来，奇异值可以被看作成一个矩阵的代表值，或者说，奇异值能够代表这个矩阵的信息。当奇异值越大时，它代表的信息越多。因此，我们取前面若干个最大的奇异值，就可以基本上还原出数据本身。\n"
   ]
  },
  {
   "cell_type": "code",
   "execution_count": null,
   "metadata": {},
   "outputs": [],
   "source": []
  }
 ],
 "metadata": {
  "kernelspec": {
   "display_name": "Python 3",
   "language": "python",
   "name": "python3"
  },
  "language_info": {
   "codemirror_mode": {
    "name": "ipython",
    "version": 3
   },
   "file_extension": ".py",
   "mimetype": "text/x-python",
   "name": "python",
   "nbconvert_exporter": "python",
   "pygments_lexer": "ipython3",
   "version": "3.7.4"
  },
  "toc": {
   "base_numbering": 1,
   "nav_menu": {},
   "number_sections": true,
   "sideBar": true,
   "skip_h1_title": false,
   "title_cell": "Table of Contents",
   "title_sidebar": "Contents",
   "toc_cell": false,
   "toc_position": {
    "height": "calc(100% - 180px)",
    "left": "10px",
    "top": "150px",
    "width": "288px"
   },
   "toc_section_display": true,
   "toc_window_display": true
  }
 },
 "nbformat": 4,
 "nbformat_minor": 2
}
